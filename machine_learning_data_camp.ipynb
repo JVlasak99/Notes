{
 "cells": [
  {
   "cell_type": "markdown",
   "metadata": {},
   "source": [
    "* Unsupervised Learning: Uncovering hidden patterns from unlabeled data\n",
    "    * Example: Grouping customers into distinct categories (clustering)\n",
    "* Supervised Learning: The predicted values are known\n",
    "    * The aim is to predict the target values of unseen data, given the features\n",
    "Types of supervised learning:\n",
    "- Classification: Target variable consists of categories\n",
    "    - Predict the label or category of an observation\n",
    "    - Example: Predict whether a bank transaction is fradulent or not\n",
    "- Regression: Target variable is continuous\n",
    "    - Example: Use number of bedrooms and size or property to predict the price\n",
    "- Feature = predictor variable = independent variable\n",
    "- Target variable = dependent variable = response variable\n",
    "\n",
    "Requirements\n",
    "- No missing values\n",
    "- Data in numeric format\n",
    "- Data stored in pandas DataFrame or NumPy array\n",
    "- Perform Exploratory data analysis first"
   ]
  },
  {
   "cell_type": "markdown",
   "metadata": {},
   "source": [
    "scikit-learn syntax"
   ]
  },
  {
   "cell_type": "code",
   "execution_count": null,
   "metadata": {},
   "outputs": [],
   "source": [
    "from sklearn.module import Model\n",
    "model = Model()\n",
    "model.fit(X, y) # array of features, array of target variable values\n",
    "predictions = model.predict(X_new)"
   ]
  },
  {
   "cell_type": "code",
   "execution_count": null,
   "metadata": {},
   "outputs": [],
   "source": []
  },
  {
   "cell_type": "markdown",
   "metadata": {},
   "source": [
    "1. Build a model\n",
    "2. Model learns from the labeled data we pass to it\n",
    "3. Pass unlabeled data to the model as input\n",
    "4. Model predicts the labels of the unseen data\n",
    "\n",
    "Labeled data = training data\n",
    "\n",
    "k-Nearest Neighbors: Popular for classification problems\n",
    "    Predict the label of a data point by:\n",
    "        Looking at the k closest labled data points\n",
    "        Taking a majority vote"
   ]
  },
  {
   "cell_type": "code",
   "execution_count": null,
   "metadata": {},
   "outputs": [],
   "source": [
    "# Using scikit-learn to fit a classifier\n",
    "from sklearn.neighbors import KNeighborsClassifier\n",
    "X = churn_df[[\"total_day_charge\", \"total_eve_charge\"]].values # 2d array of features\n",
    "y = churn_df[\"churn\"].values # 1D array of our target values\n",
    "knn = KNeighborsClassifier(n_neighbors=15)\n",
    "knn.fit(X, y)\n",
    "X_new = np.array([[56.8, 17.5],\n",
    "                 [24.4, 24.1],\n",
    "                 [50.1, 10.9]])\n",
    "predictions = knn.predict(X_new) # passing unseen data as 2D np array\n",
    "# 1 = Churn\n",
    "# 0 = No churn\n"
   ]
  },
  {
   "cell_type": "code",
   "execution_count": null,
   "metadata": {},
   "outputs": [],
   "source": []
  },
  {
   "cell_type": "markdown",
   "metadata": {},
   "source": []
  }
 ],
 "metadata": {
  "language_info": {
   "name": "python"
  },
  "orig_nbformat": 4
 },
 "nbformat": 4,
 "nbformat_minor": 2
}
